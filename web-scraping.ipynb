{
 "cells": [
  {
   "cell_type": "markdown",
   "metadata": {},
   "source": [
    "# Web Mining and Applied NLP (44-620)\n",
    "\n",
    "## Web Scraping and NLP with Requests, BeautifulSoup, and spaCy\n",
    "\n",
    "### Student Name: Zach Fuller\n",
    "\n",
    "Perform the tasks described in the Markdown cells below.  When you have completed the assignment make sure your code cells have all been run (and have output beneath them) and ensure you have committed and pushed ALL of your changes to your assignment repository.\n",
    "\n",
    "Every question that requires you to write code will have a code cell underneath it; you may either write your entire solution in that cell or write it in a python file (`.py`), then import and run the appropriate code to answer the question."
   ]
  },
  {
   "cell_type": "markdown",
   "metadata": {},
   "source": [
    "### GitHub Repo: https://github.com/HundredDucks/44620_Module6"
   ]
  },
  {
   "cell_type": "markdown",
   "metadata": {},
   "source": [
    "### Question 1"
   ]
  },
  {
   "cell_type": "markdown",
   "metadata": {},
   "source": [
    "1. Write code that extracts the article html from https://web.archive.org/web/20210327165005/https://hackaday.com/2021/03/22/how-laser-headlights-work/ and dumps it to a .pkl (or other appropriate file)"
   ]
  },
  {
   "cell_type": "code",
   "execution_count": 1,
   "metadata": {},
   "outputs": [],
   "source": [
    "#import modules needed for this assignment first\n",
    "import requests\n",
    "from bs4 import BeautifulSoup\n",
    "import pickle\n",
    "import spacy\n",
    "from spacytextblob.spacytextblob import SpacyTextBlob\n",
    "from collections import Counter\n",
    "import numpy as np\n",
    "import matplotlib as mpl\n",
    "import matplotlib.pyplot as plt"
   ]
  },
  {
   "cell_type": "code",
   "execution_count": 2,
   "metadata": {},
   "outputs": [],
   "source": [
    "r = requests.get('https://web.archive.org/web/20210327165005/https://hackaday.com/2021/03/22/how-laser-headlights-work/')\n",
    "\n",
    "with open('article.pkl', 'wb') as f:\n",
    "    pickle.dump(r.text, f)"
   ]
  },
  {
   "cell_type": "markdown",
   "metadata": {},
   "source": [
    "### Question 2"
   ]
  },
  {
   "cell_type": "markdown",
   "metadata": {},
   "source": [
    "2. Read in your article's html source from the file you created in question 1 and print it's text (use `.get_text()`)"
   ]
  },
  {
   "cell_type": "code",
   "execution_count": 3,
   "metadata": {},
   "outputs": [],
   "source": [
    "with open('article.pkl', 'rb') as f:\n",
    "    article_html = pickle.load(f)"
   ]
  },
  {
   "cell_type": "code",
   "execution_count": 4,
   "metadata": {},
   "outputs": [],
   "source": [
    "soup = BeautifulSoup(article_html, 'html5lib')"
   ]
  },
  {
   "cell_type": "code",
   "execution_count": 5,
   "metadata": {},
   "outputs": [],
   "source": [
    "article_content = soup.find('article')"
   ]
  },
  {
   "cell_type": "code",
   "execution_count": 6,
   "metadata": {},
   "outputs": [
    {
     "name": "stdout",
     "output_type": "stream",
     "text": [
      "\n",
      "    \n",
      "        How Laser Headlights Work\n",
      "        \n",
      "            \n",
      "                130 Comments            \n",
      "            \n",
      "                by:\n",
      "                Lewin Day\n",
      "            \n",
      "        \n",
      "\n",
      "        \n",
      "            March 22, 2021\n",
      "            \n",
      "                \n",
      "                \n",
      "            \n",
      "        \n",
      "\n",
      "        \n",
      "    \n",
      "\n",
      "    \n",
      "        When we think about the onward march of automotive technology, headlights aren’t usually the first thing that come to mind. Engines, fuel efficiency, and the switch to electric power are all more front of mind. However, that doesn’t mean there aren’t thousands of engineers around the world working to improve the state of the art in automotive lighting day in, day out.\n",
      "Sealed beam headlights gave way to more modern designs once regulations loosened up, while bulbs moved from simple halogens to xenon HIDs and, more recently, LEDs. Now, a new technology is on the scene, with lasers!\n",
      "\n",
      "Laser Headlights?!\n",
      "BWM’s prototype laser headlight assemblies undergoing testing.\n",
      "The first image brought to mind by the phrase “laser headlights” is that of laser beams firing out the front of an automobile. Obviously, coherent beams of monochromatic light would make for poor illumination outside of a very specific spot quite some distance away. Thankfully for our eyes, laser headlights don’t work in this way at all.\n",
      "Instead, laser headlights consist of one or more solid state laser diodes mounted inside the headlight. These blue lasers are fired at a yellow phosphor, similar to that used in white LEDs. This produces a powerful, vibrant white light that can then be bounced off reflectors and out of the headlights towards the road. Laser headlights built in this way have several benefits. They’re more energy efficient than LEDs that put out the same amount of light, while also being more space efficient, too.\n",
      "BWM’s futuristic i8 was one of the first vehicles to ship with laser headlight technology.\n",
      "Laser headlights are still a nascent technology, thus far only appearing in a few BMW, Audi, and other select vehicles. BMW’s technology was developed in partnership with lighting experts OSRAM. In practice, a regular LED low-beam lamp is used, with the laser used to create an incredibly bright and focused spot, used for high-beams. This can provide illumination out to 600 meters ahead of the vehicle, double that of conventional LED high beams. The lights use indium gallium nitride diode lasers that were originally used in projectors, with power levels above 1 watt. One of the challenges in implementing such technology in an automotive environment is the need for it to operate at temperature extremes. While research lasers and laser pointers may primarily be used at typical room temperatures, automotive headlights must be able to withstand everything from 40 degrees below zero up to 50 degrees C. Thankfully, the laser’s high efficiency means it doesn’t have huge heat output of its own to further complicate things. Other engineering challenges involve tailoring the optics package for the rough-and-tumble, high vibration environment found in the automotive application. It’s also important to ensure, as with any such device, that the end user can’t be exposed to harmful laser radiation in the event of accident or malfunction.\n",
      "Tearing Down the Laser Headlight\n",
      "A marketing image showing the construction of an aftermarket LED/laser headlight. We’d take the laser power with a grain of salt — it’s difficult to imagine a 10 W laser shining directly on some small LEDs without melting a hole through the board in short order.\n",
      "An aftermarket has sprung up too, with delightfully innovative designs. Combined laser/LED headlights are readily available on Alibaba, designed as a drop in replacement for projector lamps on existing vehicles. These often use an LED low-beam, and a combined LED/laser high beam, where the laser diode shoots directly at the LED phosphor to excite it further, rather than using its own. These units often also come with fan cooling to keep the laser and LEDs below their maximum operational temperature. Such developments are exciting, though it’s important to be wary of the performance of unknown aftermarket headlights. Many aftermarket LED headlight “upgrades” fail to pass muster when it comes to real-world performance, and there’s no reason to believe hybrid LED/laser designs will be any different. We’d love to pass a selection of these parts through a full IIHS test protocol, but that’s sadly beyond the scope (and budget!) of this article.\n",
      "However, [mikeselectricstuff] has happened to lay his hands on both the BMW and aftermarket parts, tearing them all down in his workshop to see what makes them tick. The differences are multitude when laid bare on the bench. The AliExpress part is relatively simple, wired up no differently from a regular headlight. Interestingly, however, the laser high-beam circuit runs all the time in these parts. To prevent blinding other road users, a shutter is kept in place to block the light, which is moved out of the way with a solenoid when the driver turns on the high beam switch.\n",
      "Where the aftermarket part is a little out of left field, the BMW design is another thing entirely. The cutting-edge headlights are hooked up with multiple connectors and over 30 conductors, with much of the driver electronics living in an external controller. Much of this is to drive the various LEDs and stepper motors for slewing the headlights when steering. However, the laser assembly brings its own complexities. Twin light sensors are built inside to monitor the laser beam, and a special metal blocking arm sits directly in front of the diode, presumably to stop the laser light leaving the headlight in the event the phosphor coating burns through. It’s truly wild to get a look inside a modern luxury car’s headlight and see just how far we’ve come from the old days of simple sealed beams.\n",
      "Cost Versus Performance\n",
      "Despite the efficiency gains available, the technology remains expensive. Powerful laser diodes don’t come cheap, after all. However, as the technology trickles down to lower-end models, it’s likely that we could see economies of scale change that for the better. Indeed, if national authorities begin to demand higher performance headlights as standard, we could see laser headlights become the norm, rather than an expensive luxury. The technology could naturally be applied to home and commercial lighting, too — though we suspect the potential gains are limited enough that LED lighting will remain the norm for some time to come.\n",
      "The high light output of laser headlights in a compact package allows engineers greater freedom when designing the front-end of a car.\n",
      "As it currently stands, much of the appeal of the new technology is about the packaging benefits, which allow automotive designers greater freedom around the headlight area. Such concerns are less of a factor when it comes to light fittings in the home or office, or indeed, on lower-end automobiles. Regardless, it’s an exciting new application for lasers and one we’ll be sure to see more of in the future.\n",
      " \n",
      "\t            \n",
      "    \n",
      "    \t\t\t\t\t\n",
      "    \t\t\t\t\n",
      "    \t\t\t\t\t \n",
      "    \t\t\t\t\t\t\t\t\t\n",
      "    \t\t\t\n",
      "    \t\t\t\t\t\n",
      "    \t\t\t\t\n",
      "    \t\t\t\t\t\n",
      "    \t\t\t\t\t\t\t\t\t\n",
      "    \t\t\t\n",
      "    \t\t\t\t\t\n",
      "    \t\t\t\t\n",
      "    \t\t\t\t\t\n",
      "    \t\t\t\t\t\t\t\t\t\n",
      "    \t\t\t\n",
      "    \t\t\t\t\t\n",
      "                \n",
      "    \t\t\t\t\t\n",
      "    \t\t\t\t\t\t\t\t\t\n",
      "    \t\t\t\n",
      "    \t\t\t\n",
      "    \n",
      "        Posted in car hacks, Engineering, Featured, Laser Hacks, SliderTagged laser, laser headlight, laser headlights, light    \n",
      "\n"
     ]
    }
   ],
   "source": [
    "print(article_content.get_text())"
   ]
  },
  {
   "cell_type": "markdown",
   "metadata": {},
   "source": [
    "### Question 3"
   ]
  },
  {
   "cell_type": "markdown",
   "metadata": {},
   "source": [
    "3. Load the article text into a trained `spaCy` pipeline, and determine the 5 most frequent tokens (converted to lower case).  Print the common tokens with an appropriate label.  Additionally, print the tokens their frequencies (with appropriate labels). Make sure to remove things we don't care about (punctuation, stopwords, whitespace)."
   ]
  },
  {
   "cell_type": "code",
   "execution_count": 7,
   "metadata": {},
   "outputs": [],
   "source": [
    "nlp = spacy.load('en_core_web_sm')\n",
    "nlp.add_pipe('spacytextblob')\n",
    "doc = nlp(article_content.get_text())"
   ]
  },
  {
   "cell_type": "code",
   "execution_count": 8,
   "metadata": {},
   "outputs": [],
   "source": [
    "def we_care_about(token):\n",
    "    return not (token.is_space or token.is_punct or token.is_stop)"
   ]
  },
  {
   "cell_type": "code",
   "execution_count": 9,
   "metadata": {},
   "outputs": [
    {
     "name": "stdout",
     "output_type": "stream",
     "text": [
      "The 5 most common tokens are [('laser', 29), ('headlights', 17), ('technology', 10), ('headlight', 10), ('led', 10)]\n"
     ]
    }
   ],
   "source": [
    "interesting_tokens = [token for token in doc if we_care_about(token)]\n",
    "word_freq = Counter(map(str,interesting_tokens))\n",
    "print(\"The 5 most common tokens are \" + str(word_freq.most_common(5)).lower())"
   ]
  },
  {
   "cell_type": "markdown",
   "metadata": {},
   "source": [
    "### Question 4"
   ]
  },
  {
   "cell_type": "markdown",
   "metadata": {},
   "source": [
    "4. Load the article text into a trained `spaCy` pipeline, and determine the 5 most frequent lemmas (converted to lower case).  Print the common lemmas with an appropriate label.  Additionally, print the lemmas with their frequencies (with appropriate labels). Make sure to remove things we don't care about (punctuation, stopwords, whitespace)."
   ]
  },
  {
   "cell_type": "code",
   "execution_count": 10,
   "metadata": {},
   "outputs": [
    {
     "name": "stdout",
     "output_type": "stream",
     "text": [
      "The 5 most common lemmas and their counts are [('laser', 40), ('headlight', 28), ('beam', 12), ('led', 11), ('technology', 10)]\n"
     ]
    }
   ],
   "source": [
    "interesting_lemmas = [token.lemma_.lower() for token in doc if we_care_about(token)]\n",
    "lemma_freq = Counter(interesting_lemmas)\n",
    "print(\"The 5 most common lemmas and their counts are \" + str(lemma_freq.most_common(5)))"
   ]
  },
  {
   "cell_type": "markdown",
   "metadata": {},
   "source": [
    "### Question 5"
   ]
  },
  {
   "cell_type": "markdown",
   "metadata": {},
   "source": [
    "5. Define the following methods:\n",
    "    * `score_sentence_by_token(sentence, interesting_token)` that takes a sentence and a list of interesting token and returns the number of times that any of the interesting words appear in the sentence divided by the number of words in the sentence\n",
    "    * `score_sentence_by_lemma(sentence, interesting_lemmas)` that takes a sentence and a list of interesting lemmas and returns the number of times that any of the interesting lemmas appear in the sentence divided by the number of words in the sentence\n",
    "    \n",
    "You may find some of the code from the in class notes useful; feel free to use methods (rewrite them in this cell as well).  Test them by showing the score of the first sentence in your article using the frequent tokens and frequent lemmas identified in question 3."
   ]
  },
  {
   "cell_type": "code",
   "execution_count": 11,
   "metadata": {},
   "outputs": [
    {
     "name": "stdout",
     "output_type": "stream",
     "text": [
      "{'headlight', 'headlights', 'technology', 'LED', 'laser'}\n"
     ]
    }
   ],
   "source": [
    "frequent_tokens = set()\n",
    "for token, freq in word_freq.most_common(5):\n",
    "    frequent_tokens.add(token)\n",
    "print(frequent_tokens)"
   ]
  },
  {
   "cell_type": "code",
   "execution_count": 12,
   "metadata": {},
   "outputs": [],
   "source": [
    "def score_sentence_by_token(sentence, interesting_token):\n",
    "    sentences = list(sentence.sents)\n",
    "    for sentence in sentences:\n",
    "        word_count_t = 0\n",
    "        count_t = 0\n",
    "        for word in sentence:\n",
    "            if not(word.is_space or word.is_punct):\n",
    "                word_count_t += 1\n",
    "        for token in sentence:\n",
    "            if token.lemma_.lower() in frequent_tokens:\n",
    "                count_t += 1\n",
    "        sent_str = str(sentence).replace('\\n','').replace('  ',' ')\n",
    "        if count_t != 0:\n",
    "            token_score = count_t/word_count_t\n",
    "        else:\n",
    "            token_score = 0\n",
    "        print(token_score,':', sent_str)"
   ]
  },
  {
   "cell_type": "code",
   "execution_count": 13,
   "metadata": {},
   "outputs": [
    {
     "name": "stdout",
     "output_type": "stream",
     "text": [
      "0 :       \n",
      "0.16666666666666666 : How Laser Headlights Work                  130 Comments                    by:        Lewin Day                    March 22, 2021                                            \n",
      "0.09523809523809523 : When we think about the onward march of automotive technology, headlights aren’t usually the first thing that come to mind.\n",
      "0 : Engines, fuel efficiency, and the switch to electric power are all more front of mind.\n",
      "0 : However, that doesn’t mean there aren’t thousands of engineers around the world working to improve the state of the art in automotive lighting day in, day out.\n",
      "0.038461538461538464 : Sealed beam headlights gave way to more modern designs once regulations loosened up, while bulbs moved from simple halogens to xenon HIDs and, more recently, LEDs.\n",
      "0.2 : Now, a new technology is on the scene, with lasers!\n",
      "1.0 : Laser Headlights?!\n",
      "0.25 : BWM’s prototype laser headlight assemblies undergoing testing.\n",
      "0.13043478260869565 : The first image brought to mind by the phrase “laser headlights” is that of laser beams firing out the front of an automobile.\n",
      "0 : Obviously, coherent beams of monochromatic light would make for poor illumination outside of a very specific spot quite some distance away.\n",
      "0.14285714285714285 : Thankfully for our eyes, laser headlights don’t work in this way at all.\n",
      "0.25 : Instead, laser headlights consist of one or more solid state laser diodes mounted inside the headlight.\n",
      "0.0625 : These blue lasers are fired at a yellow phosphor, similar to that used in white LEDs.\n",
      "0.045454545454545456 : This produces a powerful, vibrant white light that can then be bounced off reflectors and out of the headlights towards the road.\n",
      "0.2222222222222222 : Laser headlights built in this way have several benefits.\n",
      "0 : They’re more energy efficient than LEDs that put out the same amount of light, while also being more space efficient, too.\n",
      "0.1875 : BWM’s futuristic i8 was one of the first vehicles to ship with laser headlight technology.\n",
      "0.15 : Laser headlights are still a nascent technology, thus far only appearing in a few BMW, Audi, and other select vehicles.\n",
      "0.09090909090909091 : BMW’s technology was developed in partnership with lighting experts OSRAM.\n",
      "0.038461538461538464 : In practice, a regular LED low-beam lamp is used, with the laser used to create an incredibly bright and focused spot, used for high-beams.\n",
      "0 : This can provide illumination out to 600 meters ahead of the vehicle, double that of conventional LED high beams.\n",
      "0.05 : The lights use indium gallium nitride diode lasers that were originally used in projectors, with power levels above 1 watt.\n",
      "0.045454545454545456 : One of the challenges in implementing such technology in an automotive environment is the need for it to operate at temperature extremes.\n",
      "0.1111111111111111 : While research lasers and laser pointers may primarily be used at typical room temperatures, automotive headlights must be able to withstand everything from 40 degrees below zero\n",
      "0.038461538461538464 : up to 50 degrees C. Thankfully, the laser’s high efficiency means it doesn’t have huge heat output of its own to further complicate things.\n",
      "0 : Other engineering challenges involve tailoring the optics package for the rough-and-tumble, high vibration environment found in the automotive application.\n",
      "0.03333333333333333 : It’s also important to ensure, as with any such device, that the end user can’t be exposed to harmful laser radiation in the event of accident or malfunction.\n",
      "0.23529411764705882 : Tearing Down the Laser HeadlightA marketing image showing the construction of an aftermarket LED/laser headlight.\n",
      "0.05555555555555555 : We’d take the laser power with a grain of salt — it’s difficult to imagine a 10 W laser shining directly on some small LEDs without melting a hole through the board in short order.\n",
      "0 : An aftermarket has sprung up too, with delightfully innovative designs.\n",
      "0.09523809523809523 : Combined laser/LED headlights are readily available on Alibaba, designed as a drop in replacement for projector lamps on existing vehicles.\n",
      "0.06060606060606061 : These often use an LED low-beam, and a combined LED/laser high beam, where the laser diode shoots directly at the LED phosphor to excite it further, rather than using its own.\n",
      "0.05263157894736842 : These units often also come with fan cooling to keep the laser and LEDs below their maximum operational temperature.\n",
      "0.05555555555555555 : Such developments are exciting, though it’s important to be wary of the performance of unknown aftermarket headlights.\n",
      "0.06451612903225806 : Many aftermarket LED headlight “upgrades” fail to pass muster when it comes to real-world performance, and there’s no reason to believe hybrid LED/laser designs will be any different.\n",
      "0 : We’d love to pass a selection of these parts through a full IIHS test protocol, but that’s sadly beyond the scope (and budget!) of this article.\n",
      "0 : However, [mikeselectricstuff] has happened to lay his hands on both the BMW and aftermarket parts, tearing them all down in his workshop to see what makes them tick.\n",
      "0 : The differences are multitude when laid bare on the bench.\n",
      "0.07142857142857142 : The AliExpress part is relatively simple, wired up no differently from a regular headlight.\n",
      "0.07142857142857142 : Interestingly, however, the laser high-beam circuit runs all the time in these parts.\n",
      "0 : To prevent blinding other road users, a shutter is kept in place to block the light, which is moved out of the way with a solenoid when the driver turns on the high beam switch.\n",
      "0 : Where the aftermarket part is a little out of left field, the BMW design is another thing entirely.\n",
      "0.04 : The cutting-edge headlights are hooked up with multiple connectors and over 30 conductors, with much of the driver electronics living in an external controller.\n",
      "0.05555555555555555 : Much of this is to drive the various LEDs and stepper motors for slewing the headlights when steering.\n",
      "0.125 : However, the laser assembly brings its own complexities.\n",
      "0.07317073170731707 : Twin light sensors are built inside to monitor the laser beam, and a special metal blocking arm sits directly in front of the diode, presumably to stop the laser light leaving the headlight in the event the phosphor coating burns through.\n",
      "0.03225806451612903 : It’s truly wild to get a look inside a modern luxury car’s headlight and see just how far we’ve come from the old days of simple sealed beams.\n",
      "0.08333333333333333 : Cost Versus PerformanceDespite the efficiency gains available, the technology remains expensive.\n",
      "0.1111111111111111 : Powerful laser diodes don’t come cheap, after all.\n",
      "0.04 : However, as the technology trickles down to lower-end models, it’s likely that we could see economies of scale change that for the better.\n",
      "0.12 : Indeed, if national authorities begin to demand higher performance headlights as standard, we could see laser headlights become the norm, rather than an expensive luxury.\n",
      "0.030303030303030304 : The technology could naturally be applied to home and commercial lighting, too — though we suspect the potential gains are limited enough that LED lighting will remain the norm for some time to come.\n",
      "0.08695652173913043 : The high light output of laser headlights in a compact package allows engineers greater freedom when designing the front-end of a car.\n",
      "0.07407407407407407 : As it currently stands, much of the appeal of the new technology is about the packaging benefits, which allow automotive designers greater freedom around the headlight area.\n",
      "0 : Such concerns are less of a factor when it comes to light fittings in the home or office, or indeed, on lower-end automobiles.\n",
      "0.045454545454545456 : Regardless, it’s an exciting new application for lasers and one we’ll be sure to see more of in the future. \t          \t\t\t\t\t  \t\t\t\t  \t\t\t\t\t   \t\t\t\t\t\t\t\t\t  \t\t\t  \t\t\t\t\t  \t\t\t\t  \t\t\t\t\t  \t\t\t\t\t\t\t\t\t  \t\t\t  \t\t\t\t\t  \t\t\t\t  \t\t\t\t\t  \t\t\t\t\t\t\t\t\t  \t\t\t  \t\t\t\t\t          \t\t\t\t\t  \t\t\t\t\t\t\t\t\t  \t\t\t  \t\t\t      \n",
      "0.4 : Posted in car hacks, Engineering, Featured, Laser Hacks, SliderTagged laser, laser headlight, laser headlights, light  \n"
     ]
    }
   ],
   "source": [
    "score_sentence_by_token(doc, frequent_tokens)"
   ]
  },
  {
   "cell_type": "code",
   "execution_count": 14,
   "metadata": {},
   "outputs": [
    {
     "name": "stdout",
     "output_type": "stream",
     "text": [
      "0.09523809523809523 : When we think about the onward march of automotive technology, headlights aren’t usually the first thing that come to mind.\n"
     ]
    }
   ],
   "source": [
    "#I used the example notebook as a reference, but I don't quite understand how to isolate just the first sentence of the article\n",
    "#I found I could isolate it when slicing on 20, but it seems like this found the 20th word in the text and grabbed the whole line\n",
    "#Definitely not the prettiest or most appropriate way to do this, but it seems to work\n",
    "score_sentence_by_token(doc[20:20], frequent_tokens)"
   ]
  },
  {
   "cell_type": "code",
   "execution_count": 15,
   "metadata": {},
   "outputs": [
    {
     "name": "stdout",
     "output_type": "stream",
     "text": [
      "{'led', 'headlight', 'technology', 'beam', 'laser'}\n"
     ]
    }
   ],
   "source": [
    "frequent_lemmas = set()\n",
    "for lemma, freq in lemma_freq.most_common(5):\n",
    "    frequent_lemmas.add(lemma)\n",
    "print(frequent_lemmas)"
   ]
  },
  {
   "cell_type": "code",
   "execution_count": 16,
   "metadata": {},
   "outputs": [],
   "source": [
    "def score_sentence_by_lemma(sentence, interesting_lemmas):\n",
    "    sentences = list(sentence.sents)\n",
    "    for sentence in sentences:\n",
    "        word_count_l = 0\n",
    "        count_l = 0\n",
    "        for word in sentence:\n",
    "            if not(word.is_space or word.is_punct):\n",
    "                word_count_l += 1\n",
    "        for lemma in sentence:\n",
    "            if lemma.lemma_.lower() in frequent_lemmas:\n",
    "                count_l += 1\n",
    "        sent_str = str(sentence).replace('\\n','').replace('  ',' ')\n",
    "        if count_l != 0:\n",
    "            lemma_score = count_l/word_count_l\n",
    "        else:\n",
    "            lemma_score = 0\n",
    "        print(lemma_score,':', sent_str)"
   ]
  },
  {
   "cell_type": "code",
   "execution_count": 17,
   "metadata": {},
   "outputs": [
    {
     "name": "stdout",
     "output_type": "stream",
     "text": [
      "0.09523809523809523 : When we think about the onward march of automotive technology, headlights aren’t usually the first thing that come to mind.\n"
     ]
    }
   ],
   "source": [
    "score_sentence_by_lemma(doc[20:20], frequent_lemmas)"
   ]
  },
  {
   "cell_type": "markdown",
   "metadata": {},
   "source": [
    "### Question 6"
   ]
  },
  {
   "cell_type": "markdown",
   "metadata": {},
   "source": [
    "6. Make a list containing the scores (using tokens) of every sentence in the article, and plot a histogram with appropriate titles and axis labels of the scores. From your histogram, what seems to be the most common range of scores (put the answer in a comment after your code)?"
   ]
  },
  {
   "cell_type": "code",
   "execution_count": 18,
   "metadata": {},
   "outputs": [],
   "source": [
    "def token_list(sentence, interesting_token):\n",
    "    sentences = list(sentence.sents)\n",
    "    scores = list()\n",
    "    for sentence in sentences:\n",
    "        word_count_t = 0\n",
    "        count_t = 0\n",
    "        for word in sentence:\n",
    "            if not(word.is_space or word.is_punct):\n",
    "                word_count_t += 1\n",
    "        for token in sentence:\n",
    "            if token.lemma_.lower() in frequent_tokens:\n",
    "                count_t += 1\n",
    "        if count_t != 0:\n",
    "            token_score = count_t/word_count_t\n",
    "        else:\n",
    "            token_score = 0\n",
    "        scores.append(token_score)\n",
    "    return scores"
   ]
  },
  {
   "cell_type": "code",
   "execution_count": 21,
   "metadata": {},
   "outputs": [
    {
     "data": {
      "text/plain": [
       "[0,\n",
       " 0.16666666666666666,\n",
       " 0.09523809523809523,\n",
       " 0,\n",
       " 0,\n",
       " 0.038461538461538464,\n",
       " 0.2,\n",
       " 1.0,\n",
       " 0.25,\n",
       " 0.13043478260869565,\n",
       " 0,\n",
       " 0.14285714285714285,\n",
       " 0.25,\n",
       " 0.0625,\n",
       " 0.045454545454545456,\n",
       " 0.2222222222222222,\n",
       " 0,\n",
       " 0.1875,\n",
       " 0.15,\n",
       " 0.09090909090909091,\n",
       " 0.038461538461538464,\n",
       " 0,\n",
       " 0.05,\n",
       " 0.045454545454545456,\n",
       " 0.1111111111111111,\n",
       " 0.038461538461538464,\n",
       " 0,\n",
       " 0.03333333333333333,\n",
       " 0.23529411764705882,\n",
       " 0.05555555555555555,\n",
       " 0,\n",
       " 0.09523809523809523,\n",
       " 0.06060606060606061,\n",
       " 0.05263157894736842,\n",
       " 0.05555555555555555,\n",
       " 0.06451612903225806,\n",
       " 0,\n",
       " 0,\n",
       " 0,\n",
       " 0.07142857142857142,\n",
       " 0.07142857142857142,\n",
       " 0,\n",
       " 0,\n",
       " 0.04,\n",
       " 0.05555555555555555,\n",
       " 0.125,\n",
       " 0.07317073170731707,\n",
       " 0.03225806451612903,\n",
       " 0.08333333333333333,\n",
       " 0.1111111111111111,\n",
       " 0.04,\n",
       " 0.12,\n",
       " 0.030303030303030304,\n",
       " 0.08695652173913043,\n",
       " 0.07407407407407407,\n",
       " 0,\n",
       " 0.045454545454545456,\n",
       " 0.4]"
      ]
     },
     "execution_count": 21,
     "metadata": {},
     "output_type": "execute_result"
    }
   ],
   "source": [
    "token_list(doc, frequent_tokens)"
   ]
  },
  {
   "cell_type": "code",
   "execution_count": 19,
   "metadata": {},
   "outputs": [],
   "source": [
    "tokens_data = token_list(doc, frequent_tokens)"
   ]
  },
  {
   "cell_type": "code",
   "execution_count": 20,
   "metadata": {},
   "outputs": [
    {
     "data": {
      "text/plain": [
       "[Text(0.5, 0, 'Score'),\n",
       " Text(0, 0.5, 'Frequency'),\n",
       " Text(0.5, 1.0, 'Frequency of Token Scores per Sentence')]"
      ]
     },
     "execution_count": 20,
     "metadata": {},
     "output_type": "execute_result"
    },
    {
     "data": {
      "image/png": "[encoded data removed]",
      "text/plain": [
       "<Figure size 1080x648 with 1 Axes>"
      ]
     },
     "metadata": {
      "needs_background": "light"
     },
     "output_type": "display_data"
    }
   ],
   "source": [
    "fig, ax = plt.subplots(figsize=(15, 9))\n",
    "ax.hist(tokens_data, bins=25)\n",
    "ax.set(xlabel='Score', ylabel='Frequency', title='Frequency of Token Scores per Sentence')"
   ]
  },
  {
   "cell_type": "code",
   "execution_count": 22,
   "metadata": {},
   "outputs": [],
   "source": [
    "#The most common score tends to be 0.05 or less"
   ]
  },
  {
   "cell_type": "markdown",
   "metadata": {},
   "source": [
    "### Question 7"
   ]
  },
  {
   "cell_type": "markdown",
   "metadata": {},
   "source": [
    "7. Make a list containing the scores (using lemmas) of every sentence in the article, and plot a histogram with appropriate titles and axis labels of the scores.  From your histogram, what seems to be the most common range of scores (put the answer in a comment after your code)?"
   ]
  },
  {
   "cell_type": "code",
   "execution_count": 23,
   "metadata": {},
   "outputs": [],
   "source": [
    "def lemma_list(sentence, interesting_lemmas):\n",
    "    sentences = list(sentence.sents)\n",
    "    scores = list()\n",
    "    for sentence in sentences:\n",
    "        word_count_l = 0\n",
    "        count_l = 0\n",
    "        for word in sentence:\n",
    "            if not(word.is_space or word.is_punct):\n",
    "                word_count_l += 1\n",
    "        for lemma in sentence:\n",
    "            if lemma.lemma_.lower() in frequent_lemmas:\n",
    "                count_l += 1\n",
    "        if count_l != 0:\n",
    "            lemma_score = count_l/word_count_l\n",
    "        else:\n",
    "            lemma_score = 0\n",
    "        scores.append(lemma_score)\n",
    "    return scores"
   ]
  },
  {
   "cell_type": "code",
   "execution_count": 24,
   "metadata": {},
   "outputs": [
    {
     "data": {
      "text/plain": [
       "[0,\n",
       " 0.08333333333333333,\n",
       " 0.09523809523809523,\n",
       " 0,\n",
       " 0,\n",
       " 0.11538461538461539,\n",
       " 0.2,\n",
       " 0.5,\n",
       " 0.25,\n",
       " 0.17391304347826086,\n",
       " 0.047619047619047616,\n",
       " 0.14285714285714285,\n",
       " 0.25,\n",
       " 0.125,\n",
       " 0.045454545454545456,\n",
       " 0.2222222222222222,\n",
       " 0.045454545454545456,\n",
       " 0.1875,\n",
       " 0.15,\n",
       " 0.09090909090909091,\n",
       " 0.11538461538461539,\n",
       " 0.05263157894736842,\n",
       " 0.05,\n",
       " 0.045454545454545456,\n",
       " 0.1111111111111111,\n",
       " 0.038461538461538464,\n",
       " 0,\n",
       " 0.03333333333333333,\n",
       " 0.29411764705882354,\n",
       " 0.08333333333333333,\n",
       " 0,\n",
       " 0.14285714285714285,\n",
       " 0.15151515151515152,\n",
       " 0.10526315789473684,\n",
       " 0.05555555555555555,\n",
       " 0.0967741935483871,\n",
       " 0,\n",
       " 0,\n",
       " 0,\n",
       " 0.07142857142857142,\n",
       " 0.14285714285714285,\n",
       " 0.02857142857142857,\n",
       " 0,\n",
       " 0.04,\n",
       " 0.1111111111111111,\n",
       " 0.125,\n",
       " 0.0975609756097561,\n",
       " 0.06451612903225806,\n",
       " 0.08333333333333333,\n",
       " 0.1111111111111111,\n",
       " 0.04,\n",
       " 0.12,\n",
       " 0.06060606060606061,\n",
       " 0.08695652173913043,\n",
       " 0.07407407407407407,\n",
       " 0,\n",
       " 0.045454545454545456,\n",
       " 0.4]"
      ]
     },
     "execution_count": 24,
     "metadata": {},
     "output_type": "execute_result"
    }
   ],
   "source": [
    "lemma_list(doc, frequent_lemmas)"
   ]
  },
  {
   "cell_type": "code",
   "execution_count": 25,
   "metadata": {},
   "outputs": [],
   "source": [
    "lemmas_data = lemma_list(doc, frequent_lemmas)"
   ]
  },
  {
   "cell_type": "code",
   "execution_count": 26,
   "metadata": {},
   "outputs": [
    {
     "data": {
      "text/plain": [
       "[Text(0.5, 0, 'Score'),\n",
       " Text(0, 0.5, 'Frequency'),\n",
       " Text(0.5, 1.0, 'Frequency of Lemma Scores per Sentence')]"
      ]
     },
     "execution_count": 26,
     "metadata": {},
     "output_type": "execute_result"
    },
    {
     "data": {
      "image/png": "[encoded data removed]",
      "text/plain": [
       "<Figure size 1080x648 with 1 Axes>"
      ]
     },
     "metadata": {
      "needs_background": "light"
     },
     "output_type": "display_data"
    }
   ],
   "source": [
    "fig, ax = plt.subplots(figsize=(15, 9))\n",
    "ax.hist(lemmas_data, bins=25)\n",
    "ax.set(xlabel='Score', ylabel='Frequency', title='Frequency of Lemma Scores per Sentence')"
   ]
  },
  {
   "cell_type": "code",
   "execution_count": 27,
   "metadata": {},
   "outputs": [],
   "source": [
    "#It looks like the most common ranges of scores are about 0-0.02 and 0.04-0.06. It's interesting that the lemma scores are so low"
   ]
  },
  {
   "cell_type": "markdown",
   "metadata": {},
   "source": [
    "### Question 8"
   ]
  },
  {
   "cell_type": "markdown",
   "metadata": {},
   "source": [
    "8. Which tokens and lexems would be ommitted from the lists generated in questions 3 and 4 if we only wanted to consider nouns as interesting words?  How might we change the code to only consider nouns? Put your answer in this Markdown cell (you can edit it by double clicking it).\n",
    "\n",
    "Because we filtered to only show the top 5 most common tokens and lexems, we are only seeing nouns anyway. However, when editing the code to look at the top 20 words, we see more adjectives and verbs like \"high\", \"aftermarket\", \"low\" and \"comes.\" If we wanted to include only nouns, we could include the spacy method .pos_ (Part of Speech) and specify only nouns when defining the \"we_care_about\" function. For example, this could look like:\n",
    "\n",
    "def we_care_about(token):\n",
    "    return (token.pos_ == 'NOUN')\n",
    "\n",
    "interesting_tokens = [token.pos_(NOUN) for token in doc if we_care_about(token)]\n",
    "\n",
    "word_freq = Counter(map(str,interesting_tokens))\n",
    "\n",
    "print(\"The 5 most common tokens are \" + str(word_freq.most_common(5)).lower())"
   ]
  },
  {
   "cell_type": "code",
   "execution_count": null,
   "metadata": {},
   "outputs": [],
   "source": []
  }
 ],
 "metadata": {
  "kernelspec": {
   "display_name": "Python 3 (ipykernel)",
   "language": "python",
   "name": "python3"
  },
  "language_info": {
   "codemirror_mode": {
    "name": "ipython",
    "version": 3
   },
   "file_extension": ".py",
   "mimetype": "text/x-python",
   "name": "python",
   "nbconvert_exporter": "python",
   "pygments_lexer": "ipython3",
   "version": "3.9.12"
  }
 },
 "nbformat": 4,
 "nbformat_minor": 4
}
